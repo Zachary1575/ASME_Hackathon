{
 "cells": [
  {
   "cell_type": "code",
   "execution_count": 3,
   "id": "fac29646",
   "metadata": {},
   "outputs": [],
   "source": [
    "import json\n",
    "import pandas as pd"
   ]
  },
  {
   "cell_type": "markdown",
   "id": "f67ba36a",
   "metadata": {},
   "source": [
    "# Data Utility"
   ]
  },
  {
   "cell_type": "code",
   "execution_count": 7,
   "id": "81f0dd45",
   "metadata": {},
   "outputs": [],
   "source": [
    "file = open('./data/100029_94515530/assembly.json')\n",
    "data = json.load(file)"
   ]
  },
  {
   "cell_type": "code",
   "execution_count": 59,
   "id": "7e0fe7cc",
   "metadata": {},
   "outputs": [
    {
     "name": "stdout",
     "output_type": "stream",
     "text": [
      "tree\n",
      "{'root': {}}\n",
      "root\n",
      "{'component': 'f1331f28-054c-11ec-b126-0a2b8709b52f', 'bodies': {'f130d4f0-054c-11ec-a094-0a2b8709b52f': {'is_visible': True}, 'f1314a74-054c-11ec-ac03-0a2b8709b52f': {'is_visible': True}, 'f131bfb6-054c-11ec-9eb4-0a2b8709b52f': {'is_visible': True}, 'f13234e8-054c-11ec-8b13-0a2b8709b52f': {'is_visible': True}, 'f13282ee-054c-11ec-aa03-0a2b8709b52f': {'is_visible': True}, 'f132d110-054c-11ec-9267-0a2b8709b52f': {'is_visible': True}}}\n",
      "occurrences\n",
      "{}\n",
      "components\n",
      "{'f1331f28-054c-11ec-b126-0a2b8709b52f': {'name': 'root', 'type': 'Component', 'part_number': 'Untitled', 'bodies': ['f130d4f0-054c-11ec-a094-0a2b8709b52f', 'f1314a74-054c-11ec-ac03-0a2b8709b52f', 'f131bfb6-054c-11ec-9eb4-0a2b8709b52f', 'f13234e8-054c-11ec-8b13-0a2b8709b52f', 'f13282ee-054c-11ec-aa03-0a2b8709b52f', 'f132d110-054c-11ec-9267-0a2b8709b52f']}}\n",
      "bodies\n",
      "{'f130d4f0-054c-11ec-a094-0a2b8709b52f': {'name': 'Body1', 'type': 'BRepBody', 'png': 'f130d4f0-054c-11ec-a094-0a2b8709b52f.png', 'smt': 'f130d4f0-054c-11ec-a094-0a2b8709b52f.smt', 'step': 'f130d4f0-054c-11ec-a094-0a2b8709b52f.step', 'obj': 'f130d4f0-054c-11ec-a094-0a2b8709b52f.obj', 'physical_properties': {'center_of_mass': {'type': 'Point3D', 'x': 9.170592662106355e-16, 'y': 2.8462858246828597, 'z': 5.060009362973977e-13}, 'area': 1.8928458220856503, 'volume': 0.06431492527950143}, 'material_category': 'Plastic'}, 'f1314a74-054c-11ec-ac03-0a2b8709b52f': {'name': 'Body4', 'type': 'BRepBody', 'png': 'f1314a74-054c-11ec-ac03-0a2b8709b52f.png', 'smt': 'f1314a74-054c-11ec-ac03-0a2b8709b52f.smt', 'step': 'f1314a74-054c-11ec-ac03-0a2b8709b52f.step', 'obj': 'f1314a74-054c-11ec-ac03-0a2b8709b52f.obj', 'physical_properties': {'center_of_mass': {'type': 'Point3D', 'x': -2.0579052506724487e-09, 'y': 2.4232580430045974, 'z': -0.029362968893696825}, 'area': 0.6595311824220991, 'volume': 0.007195762073018382}, 'material_category': 'Metal_Ferrous_Steel'}, 'f131bfb6-054c-11ec-9eb4-0a2b8709b52f': {'name': 'Body5', 'type': 'BRepBody', 'png': 'f131bfb6-054c-11ec-9eb4-0a2b8709b52f.png', 'smt': 'f131bfb6-054c-11ec-9eb4-0a2b8709b52f.smt', 'step': 'f131bfb6-054c-11ec-9eb4-0a2b8709b52f.step', 'obj': 'f131bfb6-054c-11ec-9eb4-0a2b8709b52f.obj', 'physical_properties': {'center_of_mass': {'type': 'Point3D', 'x': -2.0660620477792244e-09, 'y': 2.4214042259691064, 'z': 0.6705134917294762}, 'area': 0.657317969165327, 'volume': 0.007167353574444961}, 'material_category': 'Metal_Non-Ferrous'}, 'f13234e8-054c-11ec-8b13-0a2b8709b52f': {'name': 'Body6', 'type': 'BRepBody', 'png': 'f13234e8-054c-11ec-8b13-0a2b8709b52f.png', 'smt': 'f13234e8-054c-11ec-8b13-0a2b8709b52f.smt', 'step': 'f13234e8-054c-11ec-8b13-0a2b8709b52f.step', 'obj': 'f13234e8-054c-11ec-8b13-0a2b8709b52f.obj', 'physical_properties': {'center_of_mass': {'type': 'Point3D', 'x': 9.170592662106355e-16, 'y': 2.84628582468286, 'z': 0.7000000000005064}, 'area': 1.89284582208565, 'volume': 0.06431492527950143}, 'material_category': 'Other'}, 'f13282ee-054c-11ec-aa03-0a2b8709b52f': {'name': 'Body7', 'type': 'BRepBody', 'png': 'f13282ee-054c-11ec-aa03-0a2b8709b52f.png', 'smt': 'f13282ee-054c-11ec-aa03-0a2b8709b52f.smt', 'step': 'f13282ee-054c-11ec-aa03-0a2b8709b52f.step', 'obj': 'f13282ee-054c-11ec-aa03-0a2b8709b52f.obj', 'physical_properties': {'center_of_mass': {'type': 'Point3D', 'x': 9.170592662106355e-16, 'y': 2.84628582468286, 'z': -0.699999999999494}, 'area': 1.8928458220856503, 'volume': 0.06431492527950143}, 'material_category': 'Plastic'}, 'f132d110-054c-11ec-9267-0a2b8709b52f': {'name': 'Body8', 'type': 'BRepBody', 'png': 'f132d110-054c-11ec-9267-0a2b8709b52f.png', 'smt': 'f132d110-054c-11ec-9267-0a2b8709b52f.smt', 'step': 'f132d110-054c-11ec-9267-0a2b8709b52f.step', 'obj': 'f132d110-054c-11ec-9267-0a2b8709b52f.obj', 'physical_properties': {'center_of_mass': {'type': 'Point3D', 'x': -2.066061987271417e-09, 'y': 2.421404225969105, 'z': -0.7294865082705231}, 'area': 0.6573179691653266, 'volume': 0.007167353574444951}, 'material_category': 'Metal_Non-Ferrous'}}\n",
      "List\n",
      "properties\n",
      "{'name': 'Untitled', 'bounding_box': {'type': 'BoundingBox3D', 'max_point': {'type': 'Point3D', 'x': 0.29999999999999977, 'y': 3.2, 'z': 0.9999999999999993}, 'min_point': {'type': 'Point3D', 'x': -0.29999999999999977, 'y': 1.5984969388560555, 'z': -1.0000000000000004}}, 'vertex_count': 350, 'edge_count': 507, 'face_count': 211, 'loop_count': 253, 'shell_count': 6, 'body_count': 6, 'area': 7.652704587009704, 'volume': 0.21447524506041257, 'density': 0.007850000000000001, 'mass': 0.001683630673724239, 'center_of_mass': {'type': 'Point3D', 'x': -2.0713072770247432e-10, 'y': 2.803695545533514, 'z': -0.0029559094269435353}, 'principal_axes': {'x_axis': {'type': 'Vector3D', 'x': 1.0, 'y': 0.0, 'z': 0.0, 'length': 1.0}, 'y_axis': {'type': 'Vector3D', 'x': 0.0, 'y': 0.9999879532740464, 'z': -0.004908493331335993, 'length': 1.0}, 'z_axis': {'type': 'Vector3D', 'x': 0.0, 'y': 0.004908493331335993, 'z': 0.9999879532740464, 'length': 1.0}}, 'xyz_moments_of_inertia': {'xx': 0.013914897164708654, 'yy': 0.0006207182571069342, 'zz': 0.013363806604845254, 'xy': 9.160770259009598e-13, 'yz': 1.1540784314672753e-05, 'xz': 7.924189391684058e-15}, 'surface_types': [{'surface_type': 'TorusSurfaceType', 'face_count': 12}, {'surface_type': 'CylinderSurfaceType', 'face_count': 36}, {'surface_type': 'PlaneSurfaceType', 'face_count': 154}, {'surface_type': 'SphereSurfaceType', 'face_count': 6}, {'surface_type': 'ConeSurfaceType', 'face_count': 3}], 'vertex_valence': [{'valence': 1, 'count': 36}, {'valence': 3, 'count': 314}], 'design_type': 'ParametricDesignType', 'likes_count': 2, 'comments_count': 0, 'views_count': 675, 'products': ['AutoCAD', 'Fusion 360'], 'categories': ['Mechanical Engineering'], 'industries': ['Product Design & Manufacturing']}\n"
     ]
    },
    {
     "data": {
      "text/plain": [
       "[]"
      ]
     },
     "execution_count": 59,
     "metadata": {},
     "output_type": "execute_result"
    }
   ],
   "source": [
    "def decompose_dicts(json_data, key):\n",
    "    if (len(json_data[str(key)]) != 0):\n",
    "        \n",
    "        if (key == \"bodies\"):\n",
    "            _data = list(json_data[str(key)].values())\n",
    "            df = pd.DataFrame.from_dict(_data)\n",
    "            return df\n",
    "        elif(key == \"...\")\n",
    "        \n",
    "        \n",
    "\n",
    "def decompose_assembly_json(json_data):\n",
    "    dfs = []   \n",
    "    \n",
    "    for major_keys in json_data.keys():\n",
    "        if (type(json_data[major_keys]) == type({})):   # Assumes only list or dict\n",
    "            print(major_keys)\n",
    "            print(json_data[major_keys])\n",
    "            pass\n",
    "        else:\n",
    "            print(\"List\")\n",
    "            pass\n",
    "        \n",
    "    return dfs\n",
    "\n",
    "decompose_assembly_json(data)"
   ]
  },
  {
   "cell_type": "code",
   "execution_count": 25,
   "id": "50b94661",
   "metadata": {},
   "outputs": [
    {
     "data": {
      "text/html": [
       "<div>\n",
       "<style scoped>\n",
       "    .dataframe tbody tr th:only-of-type {\n",
       "        vertical-align: middle;\n",
       "    }\n",
       "\n",
       "    .dataframe tbody tr th {\n",
       "        vertical-align: top;\n",
       "    }\n",
       "\n",
       "    .dataframe thead th {\n",
       "        text-align: right;\n",
       "    }\n",
       "</style>\n",
       "<table border=\"1\" class=\"dataframe\">\n",
       "  <thead>\n",
       "    <tr style=\"text-align: right;\">\n",
       "      <th></th>\n",
       "      <th>name</th>\n",
       "      <th>type</th>\n",
       "      <th>physical_properties</th>\n",
       "      <th>material_category</th>\n",
       "    </tr>\n",
       "  </thead>\n",
       "  <tbody>\n",
       "    <tr>\n",
       "      <th>0</th>\n",
       "      <td>Body1</td>\n",
       "      <td>BRepBody</td>\n",
       "      <td>{'center_of_mass': {'type': 'Point3D', 'x': 9....</td>\n",
       "      <td>Plastic</td>\n",
       "    </tr>\n",
       "    <tr>\n",
       "      <th>1</th>\n",
       "      <td>Body4</td>\n",
       "      <td>BRepBody</td>\n",
       "      <td>{'center_of_mass': {'type': 'Point3D', 'x': -2...</td>\n",
       "      <td>Metal_Ferrous_Steel</td>\n",
       "    </tr>\n",
       "    <tr>\n",
       "      <th>2</th>\n",
       "      <td>Body5</td>\n",
       "      <td>BRepBody</td>\n",
       "      <td>{'center_of_mass': {'type': 'Point3D', 'x': -2...</td>\n",
       "      <td>Metal_Non-Ferrous</td>\n",
       "    </tr>\n",
       "    <tr>\n",
       "      <th>3</th>\n",
       "      <td>Body6</td>\n",
       "      <td>BRepBody</td>\n",
       "      <td>{'center_of_mass': {'type': 'Point3D', 'x': 9....</td>\n",
       "      <td>Other</td>\n",
       "    </tr>\n",
       "    <tr>\n",
       "      <th>4</th>\n",
       "      <td>Body7</td>\n",
       "      <td>BRepBody</td>\n",
       "      <td>{'center_of_mass': {'type': 'Point3D', 'x': 9....</td>\n",
       "      <td>Plastic</td>\n",
       "    </tr>\n",
       "    <tr>\n",
       "      <th>5</th>\n",
       "      <td>Body8</td>\n",
       "      <td>BRepBody</td>\n",
       "      <td>{'center_of_mass': {'type': 'Point3D', 'x': -2...</td>\n",
       "      <td>Metal_Non-Ferrous</td>\n",
       "    </tr>\n",
       "  </tbody>\n",
       "</table>\n",
       "</div>"
      ],
      "text/plain": [
       "    name      type                                physical_properties  \\\n",
       "0  Body1  BRepBody  {'center_of_mass': {'type': 'Point3D', 'x': 9....   \n",
       "1  Body4  BRepBody  {'center_of_mass': {'type': 'Point3D', 'x': -2...   \n",
       "2  Body5  BRepBody  {'center_of_mass': {'type': 'Point3D', 'x': -2...   \n",
       "3  Body6  BRepBody  {'center_of_mass': {'type': 'Point3D', 'x': 9....   \n",
       "4  Body7  BRepBody  {'center_of_mass': {'type': 'Point3D', 'x': 9....   \n",
       "5  Body8  BRepBody  {'center_of_mass': {'type': 'Point3D', 'x': -2...   \n",
       "\n",
       "     material_category  \n",
       "0              Plastic  \n",
       "1  Metal_Ferrous_Steel  \n",
       "2    Metal_Non-Ferrous  \n",
       "3                Other  \n",
       "4              Plastic  \n",
       "5    Metal_Non-Ferrous  "
      ]
     },
     "execution_count": 25,
     "metadata": {},
     "output_type": "execute_result"
    }
   ],
   "source": [
    "df = pd.DataFrame.from_dict(c_data)\n",
    "df = df.drop(columns=['png', 'smt', 'step', 'obj'])\n",
    "df"
   ]
  },
  {
   "cell_type": "code",
   "execution_count": 34,
   "id": "f27c0fe1",
   "metadata": {},
   "outputs": [
    {
     "data": {
      "text/plain": [
       "0                Plastic\n",
       "1    Metal_Ferrous_Steel\n",
       "2      Metal_Non-Ferrous\n",
       "3                  Other\n",
       "4                Plastic\n",
       "5      Metal_Non-Ferrous\n",
       "Name: material_category, dtype: object"
      ]
     },
     "execution_count": 34,
     "metadata": {},
     "output_type": "execute_result"
    }
   ],
   "source": [
    "df_y = df['material_category']\n",
    "df_y"
   ]
  },
  {
   "cell_type": "code",
   "execution_count": 35,
   "id": "037b8e86",
   "metadata": {},
   "outputs": [
    {
     "data": {
      "text/plain": [
       "[['Body1',\n",
       "  'BRepBody',\n",
       "  {'center_of_mass': {'type': 'Point3D',\n",
       "    'x': 9.170592662106355e-16,\n",
       "    'y': 2.8462858246828597,\n",
       "    'z': 5.060009362973977e-13},\n",
       "   'area': 1.8928458220856503,\n",
       "   'volume': 0.06431492527950143},\n",
       "  'Plastic'],\n",
       " ['Body4',\n",
       "  'BRepBody',\n",
       "  {'center_of_mass': {'type': 'Point3D',\n",
       "    'x': -2.0579052506724487e-09,\n",
       "    'y': 2.4232580430045974,\n",
       "    'z': -0.029362968893696825},\n",
       "   'area': 0.6595311824220991,\n",
       "   'volume': 0.007195762073018382},\n",
       "  'Metal_Ferrous_Steel'],\n",
       " ['Body5',\n",
       "  'BRepBody',\n",
       "  {'center_of_mass': {'type': 'Point3D',\n",
       "    'x': -2.0660620477792244e-09,\n",
       "    'y': 2.4214042259691064,\n",
       "    'z': 0.6705134917294762},\n",
       "   'area': 0.657317969165327,\n",
       "   'volume': 0.007167353574444961},\n",
       "  'Metal_Non-Ferrous'],\n",
       " ['Body6',\n",
       "  'BRepBody',\n",
       "  {'center_of_mass': {'type': 'Point3D',\n",
       "    'x': 9.170592662106355e-16,\n",
       "    'y': 2.84628582468286,\n",
       "    'z': 0.7000000000005064},\n",
       "   'area': 1.89284582208565,\n",
       "   'volume': 0.06431492527950143},\n",
       "  'Other'],\n",
       " ['Body7',\n",
       "  'BRepBody',\n",
       "  {'center_of_mass': {'type': 'Point3D',\n",
       "    'x': 9.170592662106355e-16,\n",
       "    'y': 2.84628582468286,\n",
       "    'z': -0.699999999999494},\n",
       "   'area': 1.8928458220856503,\n",
       "   'volume': 0.06431492527950143},\n",
       "  'Plastic'],\n",
       " ['Body8',\n",
       "  'BRepBody',\n",
       "  {'center_of_mass': {'type': 'Point3D',\n",
       "    'x': -2.066061987271417e-09,\n",
       "    'y': 2.421404225969105,\n",
       "    'z': -0.7294865082705231},\n",
       "   'area': 0.6573179691653266,\n",
       "   'volume': 0.007167353574444951},\n",
       "  'Metal_Non-Ferrous']]"
      ]
     },
     "execution_count": 35,
     "metadata": {},
     "output_type": "execute_result"
    }
   ],
   "source": [
    "df_X = df.values.tolist()\n",
    "df_X"
   ]
  },
  {
   "cell_type": "code",
   "execution_count": null,
   "id": "e2c5f86f",
   "metadata": {},
   "outputs": [],
   "source": []
  },
  {
   "cell_type": "code",
   "execution_count": null,
   "id": "0abde56c",
   "metadata": {},
   "outputs": [],
   "source": []
  },
  {
   "cell_type": "code",
   "execution_count": null,
   "id": "5009c93d",
   "metadata": {},
   "outputs": [],
   "source": []
  },
  {
   "cell_type": "code",
   "execution_count": null,
   "id": "16101e67",
   "metadata": {},
   "outputs": [],
   "source": []
  },
  {
   "cell_type": "code",
   "execution_count": null,
   "id": "df39c7da",
   "metadata": {},
   "outputs": [],
   "source": []
  },
  {
   "cell_type": "code",
   "execution_count": null,
   "id": "bb5f80cf",
   "metadata": {},
   "outputs": [],
   "source": []
  },
  {
   "cell_type": "code",
   "execution_count": null,
   "id": "a91a9b1c",
   "metadata": {},
   "outputs": [],
   "source": []
  },
  {
   "cell_type": "code",
   "execution_count": null,
   "id": "c815c37f",
   "metadata": {},
   "outputs": [],
   "source": []
  }
 ],
 "metadata": {
  "kernelspec": {
   "display_name": "Python 3 (ipykernel)",
   "language": "python",
   "name": "python3"
  },
  "language_info": {
   "codemirror_mode": {
    "name": "ipython",
    "version": 3
   },
   "file_extension": ".py",
   "mimetype": "text/x-python",
   "name": "python",
   "nbconvert_exporter": "python",
   "pygments_lexer": "ipython3",
   "version": "3.10.9"
  }
 },
 "nbformat": 4,
 "nbformat_minor": 5
}
