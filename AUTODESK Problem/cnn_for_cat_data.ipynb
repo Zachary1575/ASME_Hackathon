{
 "cells": [
  {
   "cell_type": "code",
   "execution_count": 3,
   "metadata": {},
   "outputs": [],
   "source": [
    "import pandas as pd"
   ]
  },
  {
   "cell_type": "code",
   "execution_count": 9,
   "metadata": {},
   "outputs": [],
   "source": [
    "df_main = pd.read_pickle(\"df_main_fe.pkl\")\n",
    "df_test_main = pd.read_pickle(\"df_test_main_fe.pkl\")"
   ]
  },
  {
   "cell_type": "code",
   "execution_count": 10,
   "metadata": {},
   "outputs": [],
   "source": [
    "df = df_main"
   ]
  },
  {
   "cell_type": "code",
   "execution_count": 6,
   "metadata": {},
   "outputs": [],
   "source": [
    "threshold = 50\n",
    "high_cardinality_cols = [col for col in df.select_dtypes(include=['object']).columns if df[col].nunique() > threshold]"
   ]
  },
  {
   "cell_type": "code",
   "execution_count": 7,
   "metadata": {},
   "outputs": [],
   "source": [
    "for col in high_cardinality_cols:\n",
    "    df[col], _ = df[col].factorize()"
   ]
  },
  {
   "cell_type": "code",
   "execution_count": 8,
   "metadata": {},
   "outputs": [
    {
     "ename": "ModuleNotFoundError",
     "evalue": "No module named 'tensorflow'",
     "output_type": "error",
     "traceback": [
      "\u001b[1;31m---------------------------------------------------------------------------\u001b[0m",
      "\u001b[1;31mModuleNotFoundError\u001b[0m                       Traceback (most recent call last)",
      "Cell \u001b[1;32mIn[8], line 1\u001b[0m\n\u001b[1;32m----> 1\u001b[0m \u001b[39mimport\u001b[39;00m \u001b[39mtensorflow\u001b[39;00m \u001b[39mas\u001b[39;00m \u001b[39mtf\u001b[39;00m\n\u001b[0;32m      2\u001b[0m \u001b[39mfrom\u001b[39;00m \u001b[39mtensorflow\u001b[39;00m\u001b[39m.\u001b[39;00m\u001b[39mkeras\u001b[39;00m\u001b[39m.\u001b[39;00m\u001b[39mmodels\u001b[39;00m \u001b[39mimport\u001b[39;00m Model\n\u001b[0;32m      3\u001b[0m \u001b[39mfrom\u001b[39;00m \u001b[39mtensorflow\u001b[39;00m\u001b[39m.\u001b[39;00m\u001b[39mkeras\u001b[39;00m\u001b[39m.\u001b[39;00m\u001b[39mlayers\u001b[39;00m \u001b[39mimport\u001b[39;00m Input, Embedding, Flatten, Dense, Concatenate\n",
      "\u001b[1;31mModuleNotFoundError\u001b[0m: No module named 'tensorflow'"
     ]
    }
   ],
   "source": [
    "import tensorflow as tf\n",
    "from tensorflow.keras.models import Model\n",
    "from tensorflow.keras.layers import Input, Embedding, Flatten, Dense, Concatenate\n",
    "\n",
    "inputs = []\n",
    "embeddings = []\n",
    "\n",
    "for col in high_cardinality_cols:\n",
    "    # Input layer for each categorical column\n",
    "    input_col = Input(shape=(1,))\n",
    "    inputs.append(input_col)\n",
    "    \n",
    "    # Calculate embedding size. Adjust the values as needed.\n",
    "    unique_vals = df[col].nunique()\n",
    "    embedding_size = min(50, unique_vals // 2)\n",
    "    \n",
    "    # Embedding layer for each categorical column\n",
    "    embedded_col = Embedding(input_dim=unique_vals, output_dim=embedding_size)(input_col)\n",
    "    embedded_col = Flatten()(embedded_col)  # Flatten the embedding layer\n",
    "    embeddings.append(embedded_col)\n",
    "\n",
    "# Concatenate all embedding layers\n",
    "x = Concatenate()(embeddings)\n",
    "\n",
    "# Add additional dense layers if needed\n",
    "x = Dense(128, activation='relu')(x)\n",
    "# ... (you can add more layers as needed)\n",
    "\n",
    "# Assuming a binary classification task for simplicity\n",
    "output = Dense(1, activation='sigmoid')(x)\n",
    "\n",
    "model = Model(inputs=inputs, outputs=output)\n",
    "model.compile(optimizer='adam', loss='binary_crossentropy', metrics=['accuracy'])\n"
   ]
  }
 ],
 "metadata": {
  "kernelspec": {
   "display_name": "Python 3",
   "language": "python",
   "name": "python3"
  },
  "language_info": {
   "codemirror_mode": {
    "name": "ipython",
    "version": 3
   },
   "file_extension": ".py",
   "mimetype": "text/x-python",
   "name": "python",
   "nbconvert_exporter": "python",
   "pygments_lexer": "ipython3",
   "version": "3.11.4"
  },
  "orig_nbformat": 4
 },
 "nbformat": 4,
 "nbformat_minor": 2
}
